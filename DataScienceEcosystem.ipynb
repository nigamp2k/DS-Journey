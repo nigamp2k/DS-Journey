{
 "cells": [
  {
   "cell_type": "markdown",
   "id": "df858218-2f3a-4d05-8423-70f4a5f0389c",
   "metadata": {},
   "source": [
    "Exercise 2:\n",
    "# Data Science Tools and Ecosystem"
   ]
  },
  {
   "cell_type": "markdown",
   "id": "a148dbf0-038e-495d-bb5e-508b62e15b51",
   "metadata": {},
   "source": [
    "Exercise 3:\n",
    "#### In this notebook, Data Science Tools and Ecosystem are summarized.\n"
   ]
  },
  {
   "cell_type": "markdown",
   "id": "31629605-7fe5-48a7-827d-779216965d32",
   "metadata": {},
   "source": [
    "Exercise 10:\n",
    "\n",
    "**Objectives:**\n",
    "- List some of the popular languages in Data Science\n",
    "- List down some of the commonly used libraries in the Data Science\n",
    "- List down 3 popular open source development environments used in Data Science"
   ]
  },
  {
   "cell_type": "markdown",
   "id": "0de9b628-b02f-49bd-b094-65e105068e5b",
   "metadata": {},
   "source": [
    "Exercise 4:\n",
    "\n",
    "Some of the popular languages that Data Scientists use are:\n",
    "1. Python\n",
    "2. R\n",
    "3. Julia\n",
    "4. SQL\n"
   ]
  },
  {
   "cell_type": "markdown",
   "id": "1499efbf-d088-4b26-8873-4d073716fba1",
   "metadata": {},
   "source": [
    "Exercise 5:\n",
    "\n",
    "Some of the commonly used libraries used by Data Scientists include:\n",
    "1. Numpy\n",
    "2. Pandas\n",
    "3. Matplotlib\n",
    "4. ggplot\n"
   ]
  },
  {
   "cell_type": "markdown",
   "id": "b892d227-619f-4be5-841c-f0b80c1c6e16",
   "metadata": {},
   "source": [
    "Exercise 6:\n",
    "\n",
    "| Data Science Tools |\n",
    "| ------------------ |\n",
    "| Jupyter Lab        |\n",
    "| R Studio           |\n",
    "| Visual Studio      |\n"
   ]
  },
  {
   "cell_type": "markdown",
   "id": "30feb708-ad1e-4662-ad84-d418645446bd",
   "metadata": {},
   "source": [
    "Exercise 7:\n",
    "\n",
    "### Below are a few examples of evaluating arithmetic expressions in Python\n"
   ]
  },
  {
   "cell_type": "code",
   "execution_count": 1,
   "id": "7ce9edfe-380f-4ec2-9f3d-634b806fcaf1",
   "metadata": {},
   "outputs": [
    {
     "data": {
      "text/plain": [
       "17"
      ]
     },
     "execution_count": 1,
     "metadata": {},
     "output_type": "execute_result"
    }
   ],
   "source": [
    "# Exercise 8 : This a simple arithmetic expression to multiply then add integers\n",
    "(3*4)+5"
   ]
  },
  {
   "cell_type": "code",
   "execution_count": 3,
   "id": "826ea64a-bf19-4e14-8671-4f1fef8f65cb",
   "metadata": {},
   "outputs": [
    {
     "data": {
      "text/plain": [
       "3.33"
      ]
     },
     "execution_count": 3,
     "metadata": {},
     "output_type": "execute_result"
    }
   ],
   "source": [
    "# Exercise 9 : This will convert 200 minutes to hours by dividing by 60\n",
    "round(200 / 60,2)"
   ]
  },
  {
   "cell_type": "markdown",
   "id": "79a5d07c-5be6-4097-93bb-335f614be7c2",
   "metadata": {},
   "source": [
    "Exercise 11:\n",
    "## Author \n",
    "Preeti Nigam"
   ]
  },
  {
   "cell_type": "code",
   "execution_count": null,
   "id": "8d42d058-d8ec-4237-85f2-866f3479e644",
   "metadata": {},
   "outputs": [],
   "source": []
  }
 ],
 "metadata": {
  "kernelspec": {
   "display_name": "Python 3 (ipykernel)",
   "language": "python",
   "name": "python3"
  },
  "language_info": {
   "codemirror_mode": {
    "name": "ipython",
    "version": 3
   },
   "file_extension": ".py",
   "mimetype": "text/x-python",
   "name": "python",
   "nbconvert_exporter": "python",
   "pygments_lexer": "ipython3",
   "version": "3.12.8"
  }
 },
 "nbformat": 4,
 "nbformat_minor": 5
}
